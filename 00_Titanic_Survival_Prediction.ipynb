{
 "cells": [
  {
   "cell_type": "markdown",
   "metadata": {},
   "source": [
    "<center><img src='img/ms_logo.jpeg' height=40% width=40%></center>\n",
    "\n",
    "\n",
    "<center><h1>Building a Model to Predict Survival for Titanic Passengers</h1></center>\n",
    "\n",
    "\n",
    "**Welcome to _DS2: Introduction to Machine Learning_**!  This course will be all about _predictive analytics_--that is, using data and algorithms to make accurate predictions.  For our introductory exercise for this course, we're going to focus on the one of the areas where machine learning really shines--**_Classification_**.  We're going to examine the data and build a simple model to predict whether or not a passenger survived the Titanic disaster.  Here's the catch: before we use any machine learning, we're going to build a classifier by hand to gain an intuition about how classification actually works.  \n",
    "<br>\n",
    "<br>\n",
    "<center><h2>The Gameplan</h2></center>\n",
    "\n",
    "We're going to start by building the simplest model possible, and then slowly add complexity as we notice patterns that can make our classifier more accurate.  \n",
    "\n",
    "Recall that we've investigated this dataset before, in DS1. We're going to use our _Data Analysis_ and _Visualization_ skills from DS1 to investigate our dataset and see if we can find some patterns that we can use in our prediction algorithm. In order to successfully build a prediction algorithm, we'll use the following process:\n",
    "\n",
    "**1.  Load and explore the data.**  \n",
    "    --We'll begin by reading our data into a dataframe, and then visualizing our data to see if we can find certain groups that had higher survival rates than others.  At this step, we'll also remove the `Survived` column from the dataframe and store it in a separate variable.  \n",
    "    \n",
    "**2.Write a prediction function.** \n",
    "<br>\n",
    "    -- We'll write a function that takes in a dataframe and predicts 0 (died) or 1(survived) for each passenger based on whatever we decide is important.  This function should output a vector containing only 0's and 1's, where the first element is the prediction for the first passenger in the dataframe, the 2nd element is the prediction for the second passenger, etc.  \n",
    "    \n",
    "**3.  Write an evaluation function.**\n",
    "<br>\n",
    "    -- In order to evaluate how accurate our prediction function is, we'll need to track how it does.  To do this, we'll create a _confusion matrix_.  This matrix will exist as a dictionary that tracks the number of _True Positives_, _True Negatives_, _False Positives_, and _False Negatives_ our algorithm makes--don't worry if you haven't seen these terms before. We'll define them in a later section.\n",
    "    \n",
    "**4. Tweak our prediction function until we're happy!**\n",
    "    --once we've built out the functions that underpin our predictive algorithm, we'll tweak them until we hit our desired accuracy metric.  In this case, **_we'll shoot for an accuracy of at least 80%._**\n",
    "<br>\n",
    "<br>\n",
    "<center>Let's get started!</center>"
   ]
  },
  {
   "cell_type": "code",
   "execution_count": 42,
   "metadata": {
    "collapsed": true
   },
   "outputs": [],
   "source": [
    "#Import everything needed for the project.\n",
    "import pandas as pd\n",
    "import numpy as np\n",
    "import matplotlib.pyplot as plt\n",
    "%matplotlib inline"
   ]
  },
  {
   "cell_type": "markdown",
   "metadata": {},
   "source": [
    "<center><h2>Step 1: Load and Explore the Data</h2></center>\n",
    "\n",
    "In this section, we'll:\n",
    "\n",
    "1. Read the data from `titanic.csv` and store it in a dataframe (you'll find this file in the `/datasets` folder).\n",
    "2. Remove the `Survived` column from the dataframe and store it as a Pandas Series in a variable. \n",
    "3. Create a general purpose function that visualizes survivors vs deaths in any data frame passed in.\n",
    "4. Clean our dataframe (remove unnecessary columns, deal with null values, etc).  \n",
    "5. Explore our data and figure out which groups are most likely to survive.\n",
    "\n",
    "\n",
    "NOTE: There are many ways to successfully visualize survival rates across the different features. The most inuitive way to visualize survival rates as a stacked bar chart, where 'survived' and 'dead' are different colors on the same bar.  For an easy explanation of how to make these bar charts, see [this Stack Overflow question](https://stackoverflow.com/questions/41622054/stacked-histogram-of-grouped-values-in-pandas)."
   ]
  },
  {
   "cell_type": "code",
   "execution_count": 43,
   "metadata": {},
   "outputs": [
    {
     "data": {
      "text/html": [
       "<div>\n",
       "<style>\n",
       "    .dataframe thead tr:only-child th {\n",
       "        text-align: right;\n",
       "    }\n",
       "\n",
       "    .dataframe thead th {\n",
       "        text-align: left;\n",
       "    }\n",
       "\n",
       "    .dataframe tbody tr th {\n",
       "        vertical-align: top;\n",
       "    }\n",
       "</style>\n",
       "<table border=\"1\" class=\"dataframe\">\n",
       "  <thead>\n",
       "    <tr style=\"text-align: right;\">\n",
       "      <th></th>\n",
       "      <th>Pclass</th>\n",
       "      <th>Sex</th>\n",
       "      <th>Age</th>\n",
       "      <th>SibSp</th>\n",
       "      <th>Parch</th>\n",
       "      <th>Fare</th>\n",
       "      <th>Embarked</th>\n",
       "    </tr>\n",
       "  </thead>\n",
       "  <tbody>\n",
       "    <tr>\n",
       "      <th>0</th>\n",
       "      <td>3</td>\n",
       "      <td>male</td>\n",
       "      <td>22.0</td>\n",
       "      <td>1</td>\n",
       "      <td>0</td>\n",
       "      <td>7.2500</td>\n",
       "      <td>S</td>\n",
       "    </tr>\n",
       "    <tr>\n",
       "      <th>1</th>\n",
       "      <td>1</td>\n",
       "      <td>female</td>\n",
       "      <td>38.0</td>\n",
       "      <td>1</td>\n",
       "      <td>0</td>\n",
       "      <td>71.2833</td>\n",
       "      <td>C</td>\n",
       "    </tr>\n",
       "    <tr>\n",
       "      <th>2</th>\n",
       "      <td>3</td>\n",
       "      <td>female</td>\n",
       "      <td>26.0</td>\n",
       "      <td>0</td>\n",
       "      <td>0</td>\n",
       "      <td>7.9250</td>\n",
       "      <td>S</td>\n",
       "    </tr>\n",
       "    <tr>\n",
       "      <th>3</th>\n",
       "      <td>1</td>\n",
       "      <td>female</td>\n",
       "      <td>35.0</td>\n",
       "      <td>1</td>\n",
       "      <td>0</td>\n",
       "      <td>53.1000</td>\n",
       "      <td>S</td>\n",
       "    </tr>\n",
       "    <tr>\n",
       "      <th>4</th>\n",
       "      <td>3</td>\n",
       "      <td>male</td>\n",
       "      <td>35.0</td>\n",
       "      <td>0</td>\n",
       "      <td>0</td>\n",
       "      <td>8.0500</td>\n",
       "      <td>S</td>\n",
       "    </tr>\n",
       "  </tbody>\n",
       "</table>\n",
       "</div>"
      ],
      "text/plain": [
       "   Pclass     Sex   Age  SibSp  Parch     Fare Embarked\n",
       "0       3    male  22.0      1      0   7.2500        S\n",
       "1       1  female  38.0      1      0  71.2833        C\n",
       "2       3  female  26.0      0      0   7.9250        S\n",
       "3       1  female  35.0      1      0  53.1000        S\n",
       "4       3    male  35.0      0      0   8.0500        S"
      ]
     },
     "execution_count": 43,
     "metadata": {},
     "output_type": "execute_result"
    }
   ],
   "source": [
    "# Read in the titanic.csv dataset from the /datasets folder.  \n",
    "dataset_path = \"datasets/titanic.csv\"\n",
    "raw_df = pd.read_csv(dataset_path)\n",
    "\n",
    "# Store the survived column in the labels variable, and then drop the column from the data frame.  \n",
    "labels = raw_df[\"Survived\"]\n",
    "drop_survived_df = raw_df.drop(\"Survived\", 1)\n",
    "\n",
    "#Don't forget to remove these columns from the dataframe!\n",
    "columns_to_remove = ['PassengerId', 'Name', 'Ticket', 'Cabin']\n",
    "cleaned_df = drop_survived_df.drop(columns_to_remove, 1)\n",
    "\n",
    "cleaned_df.head(5)"
   ]
  },
  {
   "cell_type": "markdown",
   "metadata": {},
   "source": [
    "Next, we'll create a function that allows us to quickly visualize the survival rates of any dataframe of passengers.  This way, we can iterate quickly by slicing our dataframe and visualizing the survival rate to see if we can find any patterns that will be useful to us.  \n",
    "\n",
    "As an example, if we wanted to visualize the survival rates of men versus women, we would create a dataframe object that contains only the information that matters to us, and then pass it into this function.  When completed, this function should output a histogram plot that looks like the ones seen in the Stack Overflow link listed above.  "
   ]
  },
  {
   "cell_type": "code",
   "execution_count": 44,
   "metadata": {
    "collapsed": true
   },
   "outputs": [],
   "source": [
    "# Create a function used to visualize survival rates for the data frame passed in\n",
    "def visualize_survival_rates(dataframe, xlabel=None, ylabel=\"Count\"):\n",
    "    \"\"\"    \n",
    "    Inputs: dataframe--a pandas dataframe object consisting of the things you want visualized.  \n",
    "            labels--a pandas series object that tells us whether each passenger died (0) or survived(1)\n",
    "            \n",
    "    Outputs: A 2 color histogram that visualizes the survival rate of passengers based on the values contained \n",
    "    within the dataframe.  For instance, if we pass in a visualization \n",
    "    \n",
    "    NOTE: You should rely on the dataframe's .hist() method to do most of the heavy lifting for visualizations.  \n",
    "    Any slicing of the dataframe should be done BEFORE you call this function.  For instance, if you want to visualize\n",
    "    survival rates of men under 30 vs women under 30, you should create a dataframe containing only these rows and \n",
    "    columns before passing it into this function, rather than passing in the full original dataframe.  This will \n",
    "    allow you to keep the logic in this function simple.\n",
    "    \"\"\"\n",
    "    pd.DataFrame({'Dead Females': dataframe.groupby([labels, 'Sex']).get_group((0, 'female')).Age,\n",
    "                  'Dead Males': dataframe.groupby([labels, 'Sex']).get_group((0, 'male')).Age,\n",
    "                  'Surviving Females': dataframe.groupby([labels, 'Sex']).get_group((1, 'female')).Age,\n",
    "                  'Surviving Males': dataframe.groupby([labels, 'Sex']).get_group((1, 'male')).Age\n",
    "                 }).plot.hist(stacked=True, bins = 15)\n",
    "    \n",
    "    plt.xlabel(xlabel, fontsize=18)\n",
    "    plt.ylabel(ylabel, fontsize=18)\n",
    "    fig_size = plt.rcParams['figure.figsize']\n",
    "    \n",
    "    # adjust width and height\n",
    "    fig_size[0] = 40\n",
    "    fig_size[1] = 24   "
   ]
  },
  {
   "cell_type": "code",
   "execution_count": 45,
   "metadata": {},
   "outputs": [
    {
     "data": {
      "text/plain": [
       "Text(0.5,1,'Passages Younger than 18 1\\n')"
      ]
     },
     "execution_count": 45,
     "metadata": {},
     "output_type": "execute_result"
    },
    {
     "data": {
      "image/png": "[encoded data removed]",
      "text/plain": [
       "<matplotlib.figure.Figure at 0x110190668>"
      ]
     },
     "metadata": {},
     "output_type": "display_data"
    }
   ],
   "source": [
    "sex_and_age_df = cleaned_df[cleaned_df['Age'].notnull()][['Sex', 'Age']]\n",
    "children_df = sex_and_age_df[sex_and_age_df['Age'] < 68]\n",
    "visualize_survival_rates(children_df, \"Age\")\n",
    "\n",
    "# Prettify\n",
    "plt.title('Passages Younger than 18 1\\n', fontsize=20)"
   ]
  },
  {
   "cell_type": "markdown",
   "metadata": {},
   "source": [
    "<center><h3>Building a Prediction Function</h3></center>\n",
    "\n",
    "Next, we'll write a prediction function.  We'll use basic control flow to examine each row in the data set and make a prediction based on whatever we think is important.  If you explored the data set, you may have stumbled upon a few interesting discoveries, such as:\n",
    "\n",
    "* Women were more likely to survive than men.  \n",
    "* Rich people were more likely to survive than poor people.  \n",
    "* Young people were more likely to survive than others.  \n",
    "\n",
    "(NOTE: We made these up--don't automatically assume they're true without investigating first!)\n",
    "\n",
    "These may seem obvious, but don't discount their usefulness! We can use these facts to build a prediction function that has decent accuracy! For instance, let's pretend that we found that 80% of all women survived.  Knowing this, if we then tell our algorithm to predict than all female passengers survived, we'll be right 80% of the time for female passengers! \n",
    "\n",
    "Complete the following prediction function.  It should take in a dataframe of titanic passengers.  Based on the things you think are important (just use a bunch of nested control flow statements), you'll output a 1 if you think this passenger survived, or a if you think they died.  \n",
    "\n",
    "The function should output an array where the first item is the prediction for the first row in the dataframe, the 2nd item in the array is the prediction for the seconf row in the dataframe, etc.  "
   ]
  },
  {
   "cell_type": "code",
   "execution_count": 46,
   "metadata": {},
   "outputs": [],
   "source": [
    "def predict_survival(dataframe):\n",
    "    predictions = []\n",
    "    # WRITE YOUR PREDICTION CODE BELOW!\n",
    "    for index in range(0, len(dataframe)):\n",
    "        passanger = dataframe.iloc[index]\n",
    "        \n",
    "        p_sex = passanger['Sex']\n",
    "        p_age = passanger['Age']\n",
    "        p_class = passanger['Pclass']\n",
    "        \n",
    "        if p_class is not 1:\n",
    "            predictions.append(0)\n",
    "        elif p_age <= 18 and p_sex is \"Female\":\n",
    "            predictions.append(1)\n",
    "        \n",
    "    return predictions"
   ]
  },
  {
   "cell_type": "markdown",
   "metadata": {},
   "source": [
    "<center><h3>Evaluating Your Predictions</h3></center>\n",
    "\n",
    "Great! Now we've evaluated our data and made a bunch of predictions--but predictions are only interesting if they're accurate.  In order to do this, we're going to create a **_Confusion Matrix_** to track what we got right and wrong (and _how_ we were right and wrong).  \n",
    "\n",
    "There are 4 different possible outcomes for each prediction:\n",
    "\n",
    "1. **True Positive** -- You predicted they survived (1), and they actually survived (1). \n",
    "2. **True Negative** -- You predicted they died (0), and they actually died (0).\n",
    "3. **False Positive** -- You predicted they survived (1), and they actually died (0).\n",
    "4. **False Negative** -- You predicted they died (0), and they actually survived (1).\n",
    "\n",
    "We're going to write a function that takes in our predictions and the actual labels (the \"Survived\" column we removed from the actual data frame), and determines which possible outcome we had for each prediction.  We will keep track of how many times each outcome happened by incrementing a counter for each in our _Confusion Matrix_ dictionary.\n"
   ]
  },
  {
   "cell_type": "code",
   "execution_count": 47,
   "metadata": {},
   "outputs": [],
   "source": [
    "def create_confusion_matrix(predictions, labels):\n",
    "    confusion_matrix = {\"TP\": 0, \"TN\": 0, \"FP\": 0, \"FN\": 0}\n",
    "    for index in range(len(predictions)):\n",
    "        if predictions[index] == 1 and labels[index] == 1:\n",
    "            confusion_matrix[\"TP\"] += 1\n",
    "        elif predictions[index] == 0 and labels[index] == 0:\n",
    "            confusion_matrix[\"TN\"] += 1\n",
    "        elif  predictions[index] == 1 and labels[index] == 0:\n",
    "            confusion_matrix[\"FP\"] += 1\n",
    "        else:\n",
    "            confusion_matrix[\"FN\"] += 1\n",
    "    \n",
    "    # Recall each index in both 'predictions' and 'labels' are referring to the corresponding row.  \n",
    "    # E.G. predictions[0] and label [0] both refer to row 0 in the dataframe that was passed into the \n",
    "    # prediction function.\n",
    "    \n",
    "    #TODO: Create the confusion matrix by comparing the values in predictions to the corresponding values in labels.  \n",
    "    # Use the definitions in the text above to determine which item in the dictionary you should increment.  \n",
    "    \n",
    "    return confusion_matrix\n",
    "\n",
    "\n",
    "def get_accuracy(confusion_matrix):\n",
    "    # Create a function that returns the accuracy score for your classifier.  \n",
    "    # The formula for accuracy = TP + TN / TP + TN + FP + FN\n",
    "    TP = confusion_matrix[\"TP\"]\n",
    "    TN = confusion_matrix[\"TN\"]\n",
    "    FP = confusion_matrix[\"FP\"]\n",
    "    FN = confusion_matrix[\"FN\"]\n",
    "    accuracy = (TP + TN) / (TP + TN + FP + FN)\n",
    "    \n",
    "    return accuracy"
   ]
  },
  {
   "cell_type": "markdown",
   "metadata": {},
   "source": [
    "<center><h3>Where to Go From Here</h3></center>\n",
    "\n",
    "Now that you have a way to evaluate your predictions, modify your prediction function until you can achieve an evaluation score above 80%!"
   ]
  },
  {
   "cell_type": "code",
   "execution_count": 48,
   "metadata": {},
   "outputs": [
    {
     "data": {
      "text/plain": [
       "0.6161616161616161"
      ]
     },
     "execution_count": 48,
     "metadata": {},
     "output_type": "execute_result"
    }
   ],
   "source": [
    "predictions = predict_survival(cleaned_df)\n",
    "confusion_matrix = create_confusion_matrix(predictions, labels)\n",
    "accuracy = get_accuracy(confusion_matrix)\n",
    "accuracy"
   ]
  },
  {
   "cell_type": "code",
   "execution_count": null,
   "metadata": {
    "collapsed": true
   },
   "outputs": [],
   "source": []
  }
 ],
 "metadata": {
  "kernelspec": {
   "display_name": "Python 3",
   "language": "python",
   "name": "python3"
  },
  "language_info": {
   "codemirror_mode": {
    "name": "ipython",
    "version": 3
   },
   "file_extension": ".py",
   "mimetype": "text/x-python",
   "name": "python",
   "nbconvert_exporter": "python",
   "pygments_lexer": "ipython3",
   "version": "3.6.3"
  }
 },
 "nbformat": 4,
 "nbformat_minor": 2
}
